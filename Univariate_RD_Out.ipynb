{
 "cells": [
  {
   "cell_type": "code",
   "execution_count": null,
   "id": "00a619ed",
   "metadata": {},
   "outputs": [],
   "source": [
    "import numpy as np\n",
    "def generate(median, error, outlier_error, n, outlier_n):\n",
    "    errors = error * np.random.rand(n) * np.random.choice((-1, 1), n)\n",
    "    data = median + errors\n",
    "\n",
    "    inf_errors = outlier_error * np.random.rand(outlier_n)\n",
    "    inf_outliers = median - error - inf_errors\n",
    "\n",
    "    sup_errors = outlier_error * np.random.rand(outlier_n)\n",
    "    sup_outliers = median + error + sup_errors\n",
    "\n",
    "    data = np.concatenate((data, inf_outliers, sup_outliers))\n",
    "    np.random.shuffle(data)\n",
    "\n",
    "    return data\n",
    "\n",
    "# median: indica la mediana de los datos\n",
    "# el error es ponderado por un número aleatorio que pertenece al intervalor (0,1)\n",
    "# y otro número aleatorio en el intervalo (-1,1).\n",
    "\n",
    "data = generate(1200,10,100,100,10)\n",
    "\n",
    "\n",
    "print(data.var())\n",
    "\n",
    "print(np.random.rand(1000))\n",
    "\n",
    "\n",
    "import seaborn as sns\n",
    " \n",
    "ax = sns.boxplot(data, palette=\"Set3\")\n",
    "ax = sns.swarmplot(data)"
   ]
  }
 ],
 "metadata": {
  "kernelspec": {
   "display_name": "Python 3 (ipykernel)",
   "language": "python",
   "name": "python3"
  },
  "language_info": {
   "codemirror_mode": {
    "name": "ipython",
    "version": 3
   },
   "file_extension": ".py",
   "mimetype": "text/x-python",
   "name": "python",
   "nbconvert_exporter": "python",
   "pygments_lexer": "ipython3",
   "version": "3.8.8"
  }
 },
 "nbformat": 4,
 "nbformat_minor": 5
}
